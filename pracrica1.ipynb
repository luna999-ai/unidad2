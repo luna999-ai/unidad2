{
  "nbformat": 4,
  "nbformat_minor": 0,
  "metadata": {
    "colab": {
      "provenance": [],
      "authorship_tag": "ABX9TyPIrwQGHXiZYyV9ZZZ4jHqk",
      "include_colab_link": true
    },
    "kernelspec": {
      "name": "python3",
      "display_name": "Python 3"
    },
    "language_info": {
      "name": "python"
    }
  },
  "cells": [
    {
      "cell_type": "markdown",
      "metadata": {
        "id": "view-in-github",
        "colab_type": "text"
      },
      "source": [
        "<a href=\"https://colab.research.google.com/github/luna999-ai/unidad2/blob/main/pracrica1.ipynb\" target=\"_parent\"><img src=\"https://colab.research.google.com/assets/colab-badge.svg\" alt=\"Open In Colab\"/></a>"
      ]
    },
    {
      "cell_type": "markdown",
      "source": [
        "¿Que es panda pyyhon?\n",
        "Pandas es una libreria o biblioteca de python que se utiliza\n",
        "para trabajar con conjuntos de datos.\n",
        "Tiene finciones para analizar, limpiar, esplorar y manipuladatos.\n",
        "\n",
        "El nombre \"pandas\" hace referencia a panel data y python data.\n",
        "Fue creado en 2008.\n",
        "¿Por que utilizar pandas?\n",
        "Pandas nos permite analizar BIG DATA y sacar conclusiones basadas en teorias\n",
        "estadisticas.\n",
        "\n",
        "Los pandas pueden limpiar conjuntos de datos desordenados y hacerlos leguibles y\n",
        "relevantes.\n",
        "Los datos relevantes son muy importantes en la ciencia de datos.\n",
        "\n",
        "¿Que podemos hacer con pandas?\n",
        "\n",
        "1.Saber si existe correlaciones entre dos o mas columnas.\n",
        "2.Cual es el valor promedio.\n",
        "3.Valor maximo.\n",
        "4.Valor minimo.\n",
        "\n",
        "Pandas taambien puede eliminar filas que no son relevantes o que contiene\n",
        "errores, como valores vacios.esto se llama limpieza de datos.\n",
        "\n",
        "Instalacion de pandas\n",
        "\n",
        "Si tienes python y pip ya instalado en un sistema, instalalo usando el siguiente\n",
        "comando\n",
        "pip install pandas.\n",
        "Si este comando falla, utiliza una distribucion de python que ya tenga pandas\n",
        "instalado.\n",
        "\n",
        "Import pandas\n",
        "Una ves instalado pandas importalo a tus aplicaciones agregando la palabra\n",
        "clave:import pandas.\n",
        "Ahora pandas esta importado y listo para usar.\n",
        "Pandas como pd.\n",
        "\n",
        "Crea una alias con la palabda AS al importar pandas.\n",
        "\n",
        "Ejemplo:"
      ],
      "metadata": {
        "id": "rWa1np2HW7AT"
      }
    },
    {
      "cell_type": "code",
      "source": [
        "import  pandas as pd"
      ],
      "metadata": {
        "id": "kb9RjJtLXpBZ"
      },
      "execution_count": 1,
      "outputs": []
    },
    {
      "cell_type": "markdown",
      "source": [
        "Ahora pandas puede denominarse pd en lugar de pandas.\n",
        "\n",
        "Comprobando la version de pandas\n",
        "\n",
        "La cadena de la version se almacena en el atributo __version__\n",
        "\n",
        "Ejemplo:"
      ],
      "metadata": {
        "id": "odGWhk1PXw6p"
      }
    },
    {
      "cell_type": "code",
      "source": [
        "import pandas as pd\n",
        "print(pd.__version__)"
      ],
      "metadata": {
        "colab": {
          "base_uri": "https://localhost:8080/"
        },
        "id": "bbugVY5KYXEY",
        "outputId": "c0ca950d-6b01-425e-ae6d-89a341643e80"
      },
      "execution_count": 2,
      "outputs": [
        {
          "output_type": "stream",
          "name": "stdout",
          "text": [
            "2.2.2\n"
          ]
        }
      ]
    },
    {
      "cell_type": "markdown",
      "source": [
        "Ejercicio:\n",
        "¿Cual de las siguientes tres opciones es la biblioteca oficial de pandas?\n",
        "import p\n",
        "import pandas\n",
        "import pan\n",
        "\n",
        "Panda serie\n",
        "¿Que es una serie?\n",
        "Una serie pandas es como una columba en una tabla.\n",
        "Es una matriz unidimencional que contiene datos de cualquier tipo.\n",
        "\n",
        "Ejemplo:"
      ],
      "metadata": {
        "id": "6tHvNkk9Yetw"
      }
    },
    {
      "cell_type": "code",
      "source": [
        "import pandas as pd\n",
        "a=[1,7,2]\n",
        "myvar=pd.Series(a)\n",
        "print(myvar)"
      ],
      "metadata": {
        "colab": {
          "base_uri": "https://localhost:8080/"
        },
        "id": "e5-yiYrJZLER",
        "outputId": "4121f3f8-65a3-4235-ccb3-af7734d74b82"
      },
      "execution_count": 5,
      "outputs": [
        {
          "output_type": "stream",
          "name": "stdout",
          "text": [
            "0    1\n",
            "1    7\n",
            "2    2\n",
            "dtype: int64\n"
          ]
        }
      ]
    },
    {
      "cell_type": "markdown",
      "source": [
        "Etiquetas\n",
        "Si no especifica nada mas, los valores se etiquetan con su numero de indice.\n",
        "El valor tiene indice 0, el segundo valor tiene el indice 1,etc.\n",
        "\n",
        "Esta etiqueta se puede utilizar para acceder a un valor especifico.\n",
        "\n",
        "Ejemplo:\n",
        "Devuelve el primer valor en la serie"
      ],
      "metadata": {
        "id": "mVmjEuk9Z8yv"
      }
    },
    {
      "cell_type": "code",
      "source": [
        "print (myvar[0])"
      ],
      "metadata": {
        "colab": {
          "base_uri": "https://localhost:8080/"
        },
        "id": "7OvE6XH0aKk3",
        "outputId": "f4f2f54a-ca04-4f9c-c3c7-7f9ab28edf78"
      },
      "execution_count": 6,
      "outputs": [
        {
          "output_type": "stream",
          "name": "stdout",
          "text": [
            "1\n"
          ]
        }
      ]
    },
    {
      "cell_type": "markdown",
      "source": [
        "Crea etiquetas\n",
        "Con el argumento index, podemos nombrar nuestras propias etiquetas.\n",
        "\n",
        "Ejemplo:"
      ],
      "metadata": {
        "id": "6P5EjHHSbeyB"
      }
    },
    {
      "cell_type": "code",
      "source": [
        "import pandas as pd\n",
        "myvar=pd.Series(a,index=[\"x\",\"y\",\"z\"])\n",
        "print(myvar)\n"
      ],
      "metadata": {
        "colab": {
          "base_uri": "https://localhost:8080/"
        },
        "id": "4kOcTUCicCL3",
        "outputId": "168b70c4-cc50-40e0-bac8-e14375968aa9"
      },
      "execution_count": 14,
      "outputs": [
        {
          "output_type": "stream",
          "name": "stdout",
          "text": [
            "x    1\n",
            "y    7\n",
            "z    2\n",
            "dtype: int64\n"
          ]
        }
      ]
    },
    {
      "cell_type": "markdown",
      "source": [
        "Cuando hayamos creado etiquetas, podemos nombrar nuestras propias etiquetas.\n",
        "\n",
        "Ejemplo:\n",
        "Devuelve el valor de y"
      ],
      "metadata": {
        "id": "f8PZ7tnVdA_i"
      }
    },
    {
      "cell_type": "code",
      "source": [
        "\n",
        "print(myvar[\"y\"])"
      ],
      "metadata": {
        "colab": {
          "base_uri": "https://localhost:8080/"
        },
        "id": "ZF0PmqDJdo1o",
        "outputId": "93257d30-2652-49f5-d52b-0bc0ae059f42"
      },
      "execution_count": 16,
      "outputs": [
        {
          "output_type": "stream",
          "name": "stdout",
          "text": [
            "7\n"
          ]
        }
      ]
    },
    {
      "cell_type": "markdown",
      "source": [
        "Objetos clave valor como serie\n",
        "\n",
        "Tambien podemos utilizar un objeto valor comp direccion a crear una serie.\n",
        "\n",
        "Ejemplo:\n",
        "Crea una serie pandas basicas a partir de una direccion"
      ],
      "metadata": {
        "id": "JEgT9ZPkd_Dg"
      }
    },
    {
      "cell_type": "code",
      "source": [
        "import pandas as pd\n",
        "calorias={\"dia1\":420,\"dia2\":380,\"dia3\":390}\n",
        "myvar=pd.Series(calorias)\n",
        "print(myvar)"
      ],
      "metadata": {
        "colab": {
          "base_uri": "https://localhost:8080/"
        },
        "id": "-32Nts_RetXw",
        "outputId": "945e7875-706d-4738-c4e9-b7567b92f22a"
      },
      "execution_count": 17,
      "outputs": [
        {
          "output_type": "stream",
          "name": "stdout",
          "text": [
            "dia1    420\n",
            "dia2    380\n",
            "dia3    390\n",
            "dtype: int64\n"
          ]
        }
      ]
    },
    {
      "cell_type": "markdown",
      "source": [
        "NOTA:\n",
        "Las claves del diccionario se convierten en las etiquetas para seleccionar\n",
        "elementos del diccionario utilize al algoritmo index y especifique el elemento que se desea incluir en la serie.\n",
        "\n",
        "Ejemplo:\n",
        "Crea una serie utilizando unicamente datos del dia1 y dia2"
      ],
      "metadata": {
        "id": "nqYP2cmefNIP"
      }
    },
    {
      "cell_type": "code",
      "source": [
        "myvar=pd.Series(calorias,index=[\"dia1\",\"dia2\"])\n",
        "print(myvar)"
      ],
      "metadata": {
        "colab": {
          "base_uri": "https://localhost:8080/"
        },
        "id": "h7r6AOCNgpKJ",
        "outputId": "95182fda-70ef-482c-8f51-8361049b68ba"
      },
      "execution_count": 18,
      "outputs": [
        {
          "output_type": "stream",
          "name": "stdout",
          "text": [
            "dia1    420\n",
            "dia2    380\n",
            "dtype: int64\n"
          ]
        }
      ]
    },
    {
      "cell_type": "markdown",
      "source": [
        "Data frames\n",
        "Marco de datos.\n",
        "Los conjuntos de datos en pandas suelen ser tablas multidimencionales, llamadas data frames.la serie es como una columna, un data frame es todas la tabla.\n",
        "\n",
        "Ejemplo:\n",
        "Crea un data frame a partir de dos series"
      ],
      "metadata": {
        "id": "gVc0V4EihIpQ"
      }
    },
    {
      "cell_type": "code",
      "source": [
        "data={\n",
        "    \"calorias\":[420,380,390],\n",
        "    \"duracion\":[50,40,45]\n",
        "}\n",
        "myvar=pd.DataFrame(data)\n",
        "print(myvar)"
      ],
      "metadata": {
        "colab": {
          "base_uri": "https://localhost:8080/"
        },
        "id": "6woP3E3DiEdH",
        "outputId": "4f0f2157-6147-4889-d8d5-52a7e1577a5c"
      },
      "execution_count": 19,
      "outputs": [
        {
          "output_type": "stream",
          "name": "stdout",
          "text": [
            "   calorias  duracion\n",
            "0       420        50\n",
            "1       380        40\n",
            "2       390        45\n"
          ]
        }
      ]
    }
  ]
}