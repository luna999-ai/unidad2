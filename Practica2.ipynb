{
  "nbformat": 4,
  "nbformat_minor": 0,
  "metadata": {
    "colab": {
      "provenance": [],
      "authorship_tag": "ABX9TyNBFdfZdk6Au+eM8FSOr5ha",
      "include_colab_link": true
    },
    "kernelspec": {
      "name": "python3",
      "display_name": "Python 3"
    },
    "language_info": {
      "name": "python"
    }
  },
  "cells": [
    {
      "cell_type": "markdown",
      "metadata": {
        "id": "view-in-github",
        "colab_type": "text"
      },
      "source": [
        "<a href=\"https://colab.research.google.com/github/luna999-ai/unidad2/blob/main/Practica2.ipynb\" target=\"_parent\"><img src=\"https://colab.research.google.com/assets/colab-badge.svg\" alt=\"Open In Colab\"/></a>"
      ]
    },
    {
      "cell_type": "code",
      "execution_count": null,
      "metadata": {
        "id": "BLbHiKmI2Hn0"
      },
      "outputs": [],
      "source": []
    },
    {
      "cell_type": "markdown",
      "source": [
        "Luna Romero - Practica 2 de Pamdas\n",
        "07/10/25\n",
        "-------------------------\n",
        "DataFrame de Pandas\n",
        "------------------------\n",
        "Un Data Frame es una estructura de datos bidimensionales,\n",
        "como una matriz o tabla con filas y columnas\n",
        "-------------------------------\n",
        "Ejemplo: Crea un Data Frame basico:\n",
        "---------------------------------\n"
      ],
      "metadata": {
        "id": "VfoCI1Kw2MRb"
      }
    },
    {
      "cell_type": "code",
      "source": [
        "import pandas as pd\n",
        "\n",
        "datos={\n",
        "    \"calorias\":[420,380,390],\n",
        "    \"duracion\":[50,40,45]\n",
        "}\n",
        "#cargar datos dentro del DATAFRAME\n",
        "dataframe=pd.DataFrame(datos)\n",
        "print(dataframe)"
      ],
      "metadata": {
        "colab": {
          "base_uri": "https://localhost:8080/"
        },
        "id": "w58SkULe3LJp",
        "outputId": "0aff85b9-233e-4346-9b3e-9cfbb664a01d"
      },
      "execution_count": 1,
      "outputs": [
        {
          "output_type": "stream",
          "name": "stdout",
          "text": [
            "   calorias  duracion\n",
            "0       420        50\n",
            "1       380        40\n",
            "2       390        45\n"
          ]
        }
      ]
    },
    {
      "cell_type": "markdown",
      "source": [
        "Localizar filas\n",
        "---------------------\n",
        "Como puedes ver en el resultado ateriror, el DataFRame es como un tabla con filas y columnas.\n",
        "Pandas usa el atributo \"loc\" para devolver una o mas filas especificas\n",
        "---------------------------\n",
        "Ejemplo: Devuelve la fila 0"
      ],
      "metadata": {
        "id": "iVV11fP545jQ"
      }
    },
    {
      "cell_type": "code",
      "source": [
        "import pandas as pd\n",
        "\n",
        "datos={\n",
        "    \"calorias\":[420,380,390],\n",
        "    \"duracion\":[50,40,45]\n",
        "}\n",
        "#cargar datos dentro del DATAFRAME\n",
        "dataframe=pd.DataFrame(datos)\n",
        "print(dataframe.loc[0])"
      ],
      "metadata": {
        "colab": {
          "base_uri": "https://localhost:8080/"
        },
        "id": "3Hxw-kuQ7uiK",
        "outputId": "cb52df7b-69f8-4f5d-a1ff-f394e3fd22c6"
      },
      "execution_count": 1,
      "outputs": [
        {
          "output_type": "stream",
          "name": "stdout",
          "text": [
            "calorias    420\n",
            "duracion     50\n",
            "Name: 0, dtype: int64\n"
          ]
        }
      ]
    },
    {
      "cell_type": "markdown",
      "source": [
        "Ejemplo: Devuelve las filas 0 y 1:"
      ],
      "metadata": {
        "id": "7wrVTVkD9tCw"
      }
    },
    {
      "cell_type": "code",
      "source": [
        "import pandas as pd\n",
        "\n",
        "datos={\n",
        "    \"calorias\":[420,380,390],\n",
        "    \"duracion\":[50,40,45]\n",
        "}\n",
        "#cargar datos dentro del DATAFRAME\n",
        "df- pd.DataFrame(datos)\n",
        "print(dataframe.loc[[0,1]])"
      ],
      "metadata": {
        "colab": {
          "base_uri": "https://localhost:8080/",
          "height": 193
        },
        "id": "9nKB-EGz9ytA",
        "outputId": "ad2c7707-f220-4bce-f097-ad9e4652c818"
      },
      "execution_count": 6,
      "outputs": [
        {
          "output_type": "error",
          "ename": "NameError",
          "evalue": "name 'df' is not defined",
          "traceback": [
            "\u001b[0;31m---------------------------------------------------------------------------\u001b[0m",
            "\u001b[0;31mNameError\u001b[0m                                 Traceback (most recent call last)",
            "\u001b[0;32m/tmp/ipython-input-170509020.py\u001b[0m in \u001b[0;36m<cell line: 0>\u001b[0;34m()\u001b[0m\n\u001b[1;32m      6\u001b[0m }\n\u001b[1;32m      7\u001b[0m \u001b[0;31m#cargar datos dentro del DATAFRAME\u001b[0m\u001b[0;34m\u001b[0m\u001b[0;34m\u001b[0m\u001b[0m\n\u001b[0;32m----> 8\u001b[0;31m \u001b[0mdf\u001b[0m\u001b[0;34m-\u001b[0m \u001b[0mpd\u001b[0m\u001b[0;34m.\u001b[0m\u001b[0mDataFrame\u001b[0m\u001b[0;34m(\u001b[0m\u001b[0mdatos\u001b[0m\u001b[0;34m)\u001b[0m\u001b[0;34m\u001b[0m\u001b[0;34m\u001b[0m\u001b[0m\n\u001b[0m\u001b[1;32m      9\u001b[0m \u001b[0mprint\u001b[0m\u001b[0;34m(\u001b[0m\u001b[0mdataframe\u001b[0m\u001b[0;34m.\u001b[0m\u001b[0mloc\u001b[0m\u001b[0;34m[\u001b[0m\u001b[0;34m[\u001b[0m\u001b[0;36m0\u001b[0m\u001b[0;34m,\u001b[0m\u001b[0;36m1\u001b[0m\u001b[0;34m]\u001b[0m\u001b[0;34m]\u001b[0m\u001b[0;34m)\u001b[0m\u001b[0;34m\u001b[0m\u001b[0;34m\u001b[0m\u001b[0m\n",
            "\u001b[0;31mNameError\u001b[0m: name 'df' is not defined"
          ]
        }
      ]
    },
    {
      "cell_type": "markdown",
      "source": [
        "Indices nomrados\n",
        "---------------------\n",
        "Con el argumento \"index\", puedes nombrar tus propios indices.\n",
        "Ejemplo: Agrega una lista de nombre para darle una etiqueta a cada fila"
      ],
      "metadata": {
        "id": "yI81O_JH-1ZM"
      }
    },
    {
      "cell_type": "code",
      "source": [
        "import pandas as pd\n",
        "\n",
        "datos={\n",
        "    \"calorias\":[420,380,390],\n",
        "    \"duracion\":[50,40,45]\n",
        "}\n",
        "#cargar datos dentro del DATAFRAME\n",
        "dataframe=pd.DataFrame(datos, index = [\"dia-1\", \"dia-2\", \"dia-3\"])\n",
        "print(dataframe)"
      ],
      "metadata": {
        "colab": {
          "base_uri": "https://localhost:8080/"
        },
        "id": "PPPRDS7z_Otz",
        "outputId": "d8d35d01-0cef-49b2-9c7c-be8e8ec63fd3"
      },
      "execution_count": 4,
      "outputs": [
        {
          "output_type": "stream",
          "name": "stdout",
          "text": [
            "       calorias  duracion\n",
            "dia-1       420        50\n",
            "dia-2       380        40\n",
            "dia-3       390        45\n"
          ]
        }
      ]
    },
    {
      "cell_type": "markdown",
      "source": [
        "Localizar indice poe el nombre o etiqueta utilice el atributo \"loc\" para devolver las(a)s dilas especificas\n",
        "Ejemplo: Devuelve la fila dia 2"
      ],
      "metadata": {
        "id": "3aiE2ce0_9JG"
      }
    },
    {
      "cell_type": "code",
      "source": [
        "import pandas as pd\n",
        "\n",
        "datos={\n",
        "    \"calorias\":[420,380,390],\n",
        "    \"duracion\":[50,40,45]\n",
        "}\n",
        "#cargar datos dentro del DATAFRAME\n",
        "dataframe=pd.DataFrame(datos, index = [\"dia-1\", \"dia-2\", \"dia-3\"])\n",
        "print(dataframe.loc[\"dia-2\"])"
      ],
      "metadata": {
        "colab": {
          "base_uri": "https://localhost:8080/"
        },
        "id": "J1r28oOWAZ-w",
        "outputId": "4f51ced4-be11-426d-c6cc-6780e97d90e2"
      },
      "execution_count": 7,
      "outputs": [
        {
          "output_type": "stream",
          "name": "stdout",
          "text": [
            "calorias    380\n",
            "duracion     40\n",
            "Name: dia-2, dtype: int64\n"
          ]
        }
      ]
    }
  ]
}